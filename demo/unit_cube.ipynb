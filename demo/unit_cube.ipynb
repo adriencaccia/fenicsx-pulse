{
 "cells": [
  {
   "cell_type": "markdown",
   "id": "f0905235",
   "metadata": {},
   "source": [
    "# Unit Cube\n",
    "\n",
    "In this demo we will use `fenicsx_pulse` to solve a simple contracting cube with one fixed side and with the opposite side having a traction force.\n",
    "\n",
    "First let us do the necessary imports"
   ]
  },
  {
   "cell_type": "code",
   "execution_count": null,
   "id": "669b7d12",
   "metadata": {
    "lines_to_next_cell": 2
   },
   "outputs": [],
   "source": [
    "import dolfinx\n",
    "import numpy as np\n",
    "import fenicsx_pulse\n",
    "from mpi4py import MPI\n",
    "from petsc4py import PETSc"
   ]
  },
  {
   "attachments": {},
   "cell_type": "markdown",
   "id": "b2923a14",
   "metadata": {},
   "source": [
    "Then we can create unit cube mesh"
   ]
  },
  {
   "cell_type": "code",
   "execution_count": null,
   "id": "84e77495",
   "metadata": {},
   "outputs": [],
   "source": [
    "mesh = dolfinx.mesh.create_unit_cube(MPI.COMM_WORLD, 3, 3, 3)"
   ]
  },
  {
   "attachments": {},
   "cell_type": "markdown",
   "id": "85ec6a83",
   "metadata": {},
   "source": [
    "Next let up specify a list of boundary markers where we will set the different boundary conditions"
   ]
  },
  {
   "cell_type": "code",
   "execution_count": null,
   "id": "22806878",
   "metadata": {},
   "outputs": [],
   "source": [
    "boundaries = [\n",
    "    fenicsx_pulse.Marker(marker=1, dim=2, locator=lambda x: np.isclose(x[0], 0)),\n",
    "    fenicsx_pulse.Marker(marker=2, dim=2, locator=lambda x: np.isclose(x[0], 1)),\n",
    "]"
   ]
  },
  {
   "attachments": {},
   "cell_type": "markdown",
   "id": "673b51e3",
   "metadata": {},
   "source": [
    "Now collect the boundaries and mesh in to a geometry object\n"
   ]
  },
  {
   "cell_type": "code",
   "execution_count": null,
   "id": "7a9683b9",
   "metadata": {},
   "outputs": [],
   "source": [
    "geo = fenicsx_pulse.Geometry(\n",
    "    mesh=mesh,\n",
    "    boundaries=boundaries,\n",
    "    metadata={\"quadrature_degree\": 4},\n",
    ")"
   ]
  },
  {
   "attachments": {},
   "cell_type": "markdown",
   "id": "a8ff97d9",
   "metadata": {},
   "source": [
    "We would also need to to create a passive material model. Here we will used the Holzapfel and Ogden material model"
   ]
  },
  {
   "cell_type": "code",
   "execution_count": null,
   "id": "ce4147cd",
   "metadata": {},
   "outputs": [],
   "source": [
    "material_params = fenicsx_pulse.HolzapfelOgden.transversely_isotropic_parameters()\n",
    "f0 = dolfinx.fem.Constant(mesh, PETSc.ScalarType((1.0, 0.0, 0.0)))\n",
    "s0 = dolfinx.fem.Constant(mesh, PETSc.ScalarType((0.0, 1.0, 0.0)))\n",
    "material = fenicsx_pulse.HolzapfelOgden(f0=f0, s0=s0, **material_params)"
   ]
  },
  {
   "attachments": {},
   "cell_type": "markdown",
   "id": "f144a998",
   "metadata": {},
   "source": [
    "We also need to create a model for the active contraction. Here we use an active stress model"
   ]
  },
  {
   "cell_type": "code",
   "execution_count": null,
   "id": "263cd5c5",
   "metadata": {},
   "outputs": [],
   "source": [
    "Ta = dolfinx.fem.Constant(mesh, PETSc.ScalarType(0.0))\n",
    "active_model = fenicsx_pulse.ActiveStress(f0, activation=Ta)"
   ]
  },
  {
   "attachments": {},
   "cell_type": "markdown",
   "id": "a3a062f9",
   "metadata": {},
   "source": [
    "We also need to specify whether the model what type of compressibility we want for our model. Here we use a full incompressible model"
   ]
  },
  {
   "cell_type": "code",
   "execution_count": null,
   "id": "9b61f308",
   "metadata": {},
   "outputs": [],
   "source": [
    "comp_model = fenicsx_pulse.Incompressible()"
   ]
  },
  {
   "cell_type": "code",
   "execution_count": null,
   "id": "35761872",
   "metadata": {},
   "outputs": [],
   "source": [
    "# Finally we collect all the models into a cardiac model\n",
    "model = fenicsx_pulse.CardiacModel(\n",
    "    material=material,\n",
    "    active=active_model,\n",
    "    compressibility=comp_model,\n",
    ")"
   ]
  },
  {
   "attachments": {},
   "cell_type": "markdown",
   "id": "4d9abc61",
   "metadata": {},
   "source": [
    "Now we need to specify the different boundary conditions. \n",
    "\n",
    "We can specify the dirichlet boundary conditions using a function that takes the state space as input and return a list of dirichlet boundary conditions. Since we are using the an incompressible formulation the state space have two subspaces where the first subspace represents the displacement. Here we set the displacement to zero on the boundary with marker 1"
   ]
  },
  {
   "cell_type": "code",
   "execution_count": null,
   "id": "ebf4e957",
   "metadata": {},
   "outputs": [],
   "source": [
    "def dirichlet_bc(\n",
    "    state_space: dolfinx.fem.FunctionSpace,\n",
    ") -> list[dolfinx.fem.bcs.DirichletBCMetaClass]:\n",
    "    V, _ = state_space.sub(0).collapse()\n",
    "    facets = geo.facet_tags.find(1)  # Specify the marker used on the boundary\n",
    "    dofs = dolfinx.fem.locate_dofs_topological((state_space.sub(0), V), 2, facets)\n",
    "    u_fixed = dolfinx.fem.Function(V)\n",
    "    u_fixed.x.set(0.0)\n",
    "    return [dolfinx.fem.dirichletbc(u_fixed, dofs, state_space.sub(0))]"
   ]
  },
  {
   "attachments": {},
   "cell_type": "markdown",
   "id": "548fb825",
   "metadata": {},
   "source": [
    "We als set a traction on the opposite boundary"
   ]
  },
  {
   "cell_type": "code",
   "execution_count": null,
   "id": "a542c020",
   "metadata": {},
   "outputs": [],
   "source": [
    "traction = dolfinx.fem.Constant(mesh, PETSc.ScalarType(-1.0))\n",
    "neumann = fenicsx_pulse.NeumannBC(traction=traction, marker=2)"
   ]
  },
  {
   "attachments": {},
   "cell_type": "markdown",
   "id": "df2bb4c9",
   "metadata": {},
   "source": [
    "Finally we collect all the boundary conditions"
   ]
  },
  {
   "cell_type": "code",
   "execution_count": null,
   "id": "b04f745a",
   "metadata": {},
   "outputs": [],
   "source": [
    "bcs = fenicsx_pulse.BoundaryConditions(dirichlet=(dirichlet_bc,), neumann=(neumann,))"
   ]
  },
  {
   "attachments": {},
   "cell_type": "markdown",
   "id": "75866130",
   "metadata": {},
   "source": [
    "and create a mechanics problem"
   ]
  },
  {
   "cell_type": "code",
   "execution_count": null,
   "id": "5ea7493c",
   "metadata": {},
   "outputs": [],
   "source": [
    "problem = fenicsx_pulse.MechanicsProblem(model=model, geometry=geo, bcs=bcs)"
   ]
  },
  {
   "attachments": {},
   "cell_type": "markdown",
   "id": "eae42ef5",
   "metadata": {},
   "source": [
    "We also set a value for the active stress"
   ]
  },
  {
   "cell_type": "code",
   "execution_count": null,
   "id": "ecbe39db",
   "metadata": {},
   "outputs": [],
   "source": [
    "Ta.value = 2.0"
   ]
  },
  {
   "attachments": {},
   "cell_type": "markdown",
   "id": "918218d7",
   "metadata": {},
   "source": [
    "And solve the problem"
   ]
  },
  {
   "cell_type": "code",
   "execution_count": null,
   "id": "873c4b2b",
   "metadata": {},
   "outputs": [],
   "source": [
    "problem.solve()"
   ]
  },
  {
   "attachments": {},
   "cell_type": "markdown",
   "id": "8ac1918e",
   "metadata": {},
   "source": [
    "We can get the solution (displacement)"
   ]
  },
  {
   "cell_type": "code",
   "execution_count": null,
   "id": "1559fdd9",
   "metadata": {},
   "outputs": [],
   "source": [
    "u = problem.state.sub(0).collapse()"
   ]
  },
  {
   "attachments": {},
   "cell_type": "markdown",
   "id": "22a49f57",
   "metadata": {},
   "source": [
    "and save it to XDMF for visualization in Paraview"
   ]
  },
  {
   "cell_type": "code",
   "execution_count": null,
   "id": "ce9e17bf",
   "metadata": {},
   "outputs": [],
   "source": []
  },
  {
   "cell_type": "code",
   "execution_count": null,
   "id": "07f36d36",
   "metadata": {},
   "outputs": [],
   "source": [
    "from fenicsx_plotly import plot\n",
    "plot(u, component=\"magnitude\")"
   ]
  }
 ],
 "metadata": {
  "jupytext": {
   "cell_metadata_filter": "-all",
   "main_language": "python",
   "notebook_metadata_filter": "-all"
  },
  "language_info": {
   "name": "python"
  }
 },
 "nbformat": 4,
 "nbformat_minor": 5
}
